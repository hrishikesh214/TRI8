{
 "cells": [
  {
   "cell_type": "markdown",
   "metadata": {},
   "source": [
    "# PE06 Hrishikesh Vaze\n",
    "## DWDM Lab 1 Data preprocessing"
   ]
  },
  {
   "cell_type": "code",
   "execution_count": 1,
   "metadata": {},
   "outputs": [],
   "source": [
    "import numpy as np\n",
    "import pandas as pd\n",
    "import matplotlib.pyplot as plt\n",
    "from sklearn.preprocessing import LabelEncoder, MinMaxScaler, StandardScaler\n",
    "import seaborn as sns"
   ]
  },
  {
   "cell_type": "code",
   "execution_count": 7,
   "metadata": {},
   "outputs": [
    {
     "name": "stdout",
     "output_type": "stream",
     "text": [
      "          Maths  Science  Hindi\n",
      "Arnab        90       91     97\n",
      "Ramit        92       81     96\n",
      "Samridhi     89       91     88\n",
      "Riya         81       71     67\n",
      "Mallika      94       95     99\n",
      "          Maths  Science\n",
      "Arnab        90       91\n",
      "Ramit        92       81\n",
      "Samridhi     89       91\n",
      "Riya         81       71\n",
      "Mallika      94       95\n",
      "         Maths  Science  Hindi\n",
      "Ramit       92       81     96\n",
      "Mallika     94       95     99\n",
      "          Maths  Science  Hindi\n",
      "Mallika      94       95     99\n",
      "Arnab        90       91     97\n",
      "Samridhi     89       91     88\n",
      "Ramit        92       81     96\n",
      "Riya         81       71     67\n",
      "Maths      89.2\n",
      "Science    85.8\n",
      "Hindi      89.4\n",
      "dtype: float64\n"
     ]
    }
   ],
   "source": [
    "#short hand for dataframe\n",
    "marks = [[90,91,97], [92,81,96], [89,91,88], [81,71,67] , [94,95,99]]\n",
    "df = pd.DataFrame(\n",
    "    marks, \n",
    "    columns = ['Maths', 'Science', 'Hindi'], \n",
    "    index = ['Arnab', 'Ramit','Samridhi','Riya','Mallika'])\n",
    "print(df)\n",
    "\n",
    "# filter a column\n",
    "print(df.filter(['Maths', 'Science']))\n",
    "\n",
    "# filter marks : maths > 90\n",
    "print(df[ df['Maths'] > 90])\n",
    "\n",
    "# desceding order\n",
    "print(df.sort_values(by = 'Science', ascending = False))\n",
    "\n",
    "# mean of marks subject wise\n",
    "print(df.mean())"
   ]
  },
  {
   "cell_type": "code",
   "execution_count": 2,
   "metadata": {},
   "outputs": [],
   "source": [
    "# loading all datasets\n",
    "df1 = pd.read_csv('../datasets/powerconsumption_india/data.csv')"
   ]
  },
  {
   "cell_type": "code",
   "execution_count": 5,
   "metadata": {},
   "outputs": [
    {
     "data": {
      "text/plain": [
       "<bound method NDFrame.describe of           States Regions   latitude  longitude                Dates  Usage\n",
       "0         Punjab      NR  31.519974  75.980003  02/01/2019 00:00:00  119.9\n",
       "1        Haryana      NR  28.450006  77.019991  02/01/2019 00:00:00  130.3\n",
       "2      Rajasthan      NR  26.449999  74.639981  02/01/2019 00:00:00  234.1\n",
       "3          Delhi      NR  28.669993  77.230004  02/01/2019 00:00:00   85.8\n",
       "4             UP      NR  27.599981  78.050006  02/01/2019 00:00:00  313.9\n",
       "...          ...     ...        ...        ...                  ...    ...\n",
       "16594    Manipur     NER  24.799971  93.950017  05/12/2020 00:00:00    2.5\n",
       "16595  Meghalaya     NER  25.570492  91.880014  05/12/2020 00:00:00    5.8\n",
       "16596    Mizoram     NER  23.710399  92.720015  05/12/2020 00:00:00    1.6\n",
       "16597   Nagaland     NER  25.666998  94.116570  05/12/2020 00:00:00    2.1\n",
       "16598    Tripura     NER  23.835404  91.279999  05/12/2020 00:00:00    3.3\n",
       "\n",
       "[16599 rows x 6 columns]>"
      ]
     },
     "execution_count": 5,
     "metadata": {},
     "output_type": "execute_result"
    }
   ],
   "source": [
    "df1.describe # printing the summary of the dataset"
   ]
  },
  {
   "cell_type": "code",
   "execution_count": 6,
   "metadata": {},
   "outputs": [
    {
     "data": {
      "text/plain": [
       "(16599, 6)"
      ]
     },
     "execution_count": 6,
     "metadata": {},
     "output_type": "execute_result"
    }
   ],
   "source": [
    "df1.shape # printing the shape of the dataset"
   ]
  },
  {
   "cell_type": "code",
   "execution_count": 8,
   "metadata": {},
   "outputs": [
    {
     "data": {
      "text/html": [
       "<div>\n",
       "<style scoped>\n",
       "    .dataframe tbody tr th:only-of-type {\n",
       "        vertical-align: middle;\n",
       "    }\n",
       "\n",
       "    .dataframe tbody tr th {\n",
       "        vertical-align: top;\n",
       "    }\n",
       "\n",
       "    .dataframe thead th {\n",
       "        text-align: right;\n",
       "    }\n",
       "</style>\n",
       "<table border=\"1\" class=\"dataframe\">\n",
       "  <thead>\n",
       "    <tr style=\"text-align: right;\">\n",
       "      <th></th>\n",
       "      <th>States</th>\n",
       "      <th>Regions</th>\n",
       "      <th>latitude</th>\n",
       "      <th>longitude</th>\n",
       "      <th>Dates</th>\n",
       "      <th>Usage</th>\n",
       "    </tr>\n",
       "  </thead>\n",
       "  <tbody>\n",
       "    <tr>\n",
       "      <th>0</th>\n",
       "      <td>Punjab</td>\n",
       "      <td>NR</td>\n",
       "      <td>31.519974</td>\n",
       "      <td>75.980003</td>\n",
       "      <td>02/01/2019 00:00:00</td>\n",
       "      <td>119.9</td>\n",
       "    </tr>\n",
       "    <tr>\n",
       "      <th>1</th>\n",
       "      <td>Haryana</td>\n",
       "      <td>NR</td>\n",
       "      <td>28.450006</td>\n",
       "      <td>77.019991</td>\n",
       "      <td>02/01/2019 00:00:00</td>\n",
       "      <td>130.3</td>\n",
       "    </tr>\n",
       "    <tr>\n",
       "      <th>2</th>\n",
       "      <td>Rajasthan</td>\n",
       "      <td>NR</td>\n",
       "      <td>26.449999</td>\n",
       "      <td>74.639981</td>\n",
       "      <td>02/01/2019 00:00:00</td>\n",
       "      <td>234.1</td>\n",
       "    </tr>\n",
       "  </tbody>\n",
       "</table>\n",
       "</div>"
      ],
      "text/plain": [
       "      States Regions   latitude  longitude                Dates  Usage\n",
       "0     Punjab      NR  31.519974  75.980003  02/01/2019 00:00:00  119.9\n",
       "1    Haryana      NR  28.450006  77.019991  02/01/2019 00:00:00  130.3\n",
       "2  Rajasthan      NR  26.449999  74.639981  02/01/2019 00:00:00  234.1"
      ]
     },
     "execution_count": 8,
     "metadata": {},
     "output_type": "execute_result"
    }
   ],
   "source": [
    "df1.head(3) # printing the first 3 rows of the dataset"
   ]
  },
  {
   "cell_type": "code",
   "execution_count": 10,
   "metadata": {},
   "outputs": [
    {
     "name": "stdout",
     "output_type": "stream",
     "text": [
      "size: 99594\n",
      "ndim: 2\n"
     ]
    }
   ],
   "source": [
    "print(f'size: {df1.size}') # printing the size of the dataset\n",
    "print(f'ndim: {df1.ndim}') # printing the dimension of the dataset"
   ]
  },
  {
   "cell_type": "code",
   "execution_count": 11,
   "metadata": {},
   "outputs": [
    {
     "name": "stdout",
     "output_type": "stream",
     "text": [
      "<class 'pandas.core.frame.DataFrame'>\n",
      "RangeIndex: 16599 entries, 0 to 16598\n",
      "Data columns (total 6 columns):\n",
      " #   Column     Non-Null Count  Dtype  \n",
      "---  ------     --------------  -----  \n",
      " 0   States     16599 non-null  object \n",
      " 1   Regions    16599 non-null  object \n",
      " 2   latitude   16599 non-null  float64\n",
      " 3   longitude  16599 non-null  float64\n",
      " 4   Dates      16599 non-null  object \n",
      " 5   Usage      16599 non-null  float64\n",
      "dtypes: float64(3), object(3)\n",
      "memory usage: 778.2+ KB\n"
     ]
    }
   ],
   "source": [
    "df1.info() # printing the info of the dataset"
   ]
  },
  {
   "cell_type": "code",
   "execution_count": 12,
   "metadata": {},
   "outputs": [
    {
     "data": {
      "text/html": [
       "<div>\n",
       "<style scoped>\n",
       "    .dataframe tbody tr th:only-of-type {\n",
       "        vertical-align: middle;\n",
       "    }\n",
       "\n",
       "    .dataframe tbody tr th {\n",
       "        vertical-align: top;\n",
       "    }\n",
       "\n",
       "    .dataframe thead th {\n",
       "        text-align: right;\n",
       "    }\n",
       "</style>\n",
       "<table border=\"1\" class=\"dataframe\">\n",
       "  <thead>\n",
       "    <tr style=\"text-align: right;\">\n",
       "      <th></th>\n",
       "      <th>States</th>\n",
       "      <th>Regions</th>\n",
       "    </tr>\n",
       "  </thead>\n",
       "  <tbody>\n",
       "    <tr>\n",
       "      <th>0</th>\n",
       "      <td>Punjab</td>\n",
       "      <td>NR</td>\n",
       "    </tr>\n",
       "    <tr>\n",
       "      <th>1</th>\n",
       "      <td>Haryana</td>\n",
       "      <td>NR</td>\n",
       "    </tr>\n",
       "    <tr>\n",
       "      <th>2</th>\n",
       "      <td>Rajasthan</td>\n",
       "      <td>NR</td>\n",
       "    </tr>\n",
       "    <tr>\n",
       "      <th>3</th>\n",
       "      <td>Delhi</td>\n",
       "      <td>NR</td>\n",
       "    </tr>\n",
       "    <tr>\n",
       "      <th>4</th>\n",
       "      <td>UP</td>\n",
       "      <td>NR</td>\n",
       "    </tr>\n",
       "  </tbody>\n",
       "</table>\n",
       "</div>"
      ],
      "text/plain": [
       "      States Regions\n",
       "0     Punjab      NR\n",
       "1    Haryana      NR\n",
       "2  Rajasthan      NR\n",
       "3      Delhi      NR\n",
       "4         UP      NR"
      ]
     },
     "execution_count": 12,
     "metadata": {},
     "output_type": "execute_result"
    }
   ],
   "source": [
    "df1.iloc[0:5,0:2]"
   ]
  },
  {
   "cell_type": "code",
   "execution_count": 16,
   "metadata": {},
   "outputs": [
    {
     "name": "stdout",
     "output_type": "stream",
     "text": [
      "Min: 103.00186155792517\n",
      "Max: 522.1\n",
      "Mean: 103.00186155792517\n",
      "Median: 64.4\n",
      "Std: 116.04405564998866\n"
     ]
    }
   ],
   "source": [
    "print(f'Min: {df1[\"Usage\"].mean()}')\n",
    "print(f'Max: {df1[\"Usage\"].max()}')\n",
    "print(f'Mean: {df1[\"Usage\"].mean()}')\n",
    "print(f'Median: {df1[\"Usage\"].median()}')\n",
    "print(f'Std: {df1[\"Usage\"].std()}')"
   ]
  },
  {
   "cell_type": "code",
   "execution_count": 17,
   "metadata": {},
   "outputs": [
    {
     "data": {
      "text/plain": [
       "States       0\n",
       "Regions      0\n",
       "latitude     0\n",
       "longitude    0\n",
       "Dates        0\n",
       "Usage        0\n",
       "dtype: int64"
      ]
     },
     "execution_count": 17,
     "metadata": {},
     "output_type": "execute_result"
    }
   ],
   "source": [
    "df1.isnull().sum() # printing the number of null values in the dataset"
   ]
  },
  {
   "cell_type": "code",
   "execution_count": 18,
   "metadata": {},
   "outputs": [],
   "source": [
    "# put missing values with mean if any\n",
    "df1['Usage'].fillna(df1['Usage'].mean(), inplace = True)"
   ]
  },
  {
   "cell_type": "code",
   "execution_count": 19,
   "metadata": {},
   "outputs": [
    {
     "name": "stdout",
     "output_type": "stream",
     "text": [
      "['States', 'Regions', 'Dates']\n"
     ]
    }
   ],
   "source": [
    "#all categorical cols\n",
    "print([i for i in df1.columns if df1[i].dtype == 'object'])"
   ]
  },
  {
   "cell_type": "markdown",
   "metadata": {},
   "source": [
    "# SKLEARN"
   ]
  },
  {
   "cell_type": "markdown",
   "metadata": {},
   "source": [
    "## Label Encoder"
   ]
  },
  {
   "cell_type": "code",
   "execution_count": 24,
   "metadata": {},
   "outputs": [
    {
     "data": {
      "text/plain": [
       "NR     4527\n",
       "NER    3521\n",
       "WR     3018\n",
       "SR     3018\n",
       "ER     2515\n",
       "Name: Regions, dtype: int64"
      ]
     },
     "execution_count": 24,
     "metadata": {},
     "output_type": "execute_result"
    }
   ],
   "source": [
    "df1['Regions'].value_counts()"
   ]
  },
  {
   "cell_type": "code",
   "execution_count": 27,
   "metadata": {},
   "outputs": [
    {
     "data": {
      "text/plain": [
       "2    4527\n",
       "1    3521\n",
       "4    3018\n",
       "3    3018\n",
       "0    2515\n",
       "Name: Encoded_Regions, dtype: int64"
      ]
     },
     "execution_count": 27,
     "metadata": {},
     "output_type": "execute_result"
    }
   ],
   "source": [
    "# encode Regions\n",
    "label_encoder = LabelEncoder()\n",
    "df1['Encoded_Regions'] = label_encoder.fit_transform(df1['Regions'])\n",
    "df1['Encoded_Regions'].value_counts()\n"
   ]
  },
  {
   "cell_type": "markdown",
   "metadata": {},
   "source": [
    "## Tuple Duplpication"
   ]
  },
  {
   "cell_type": "code",
   "execution_count": 30,
   "metadata": {},
   "outputs": [
    {
     "data": {
      "text/plain": [
       "False    16575\n",
       "True        24\n",
       "dtype: int64"
      ]
     },
     "execution_count": 30,
     "metadata": {},
     "output_type": "execute_result"
    }
   ],
   "source": [
    "df1.duplicated(subset=None, keep=False).value_counts()"
   ]
  },
  {
   "cell_type": "code",
   "execution_count": 32,
   "metadata": {},
   "outputs": [
    {
     "data": {
      "text/plain": [
       "(16575, 7)"
      ]
     },
     "execution_count": 32,
     "metadata": {},
     "output_type": "execute_result"
    }
   ],
   "source": [
    "df1 = df1[ ~ df1.duplicated(subset=None, keep=False)]\n",
    "df1.shape"
   ]
  },
  {
   "cell_type": "markdown",
   "metadata": {},
   "source": [
    "## Data Transformation - Normalisation"
   ]
  },
  {
   "cell_type": "code",
   "execution_count": 33,
   "metadata": {},
   "outputs": [
    {
     "data": {
      "text/plain": [
       "0    119.9\n",
       "1    130.3\n",
       "2    234.1\n",
       "3     85.8\n",
       "4    313.9\n",
       "5     40.7\n",
       "6     30.0\n",
       "7     52.5\n",
       "8      5.0\n",
       "9     78.7\n",
       "Name: Usage, dtype: float64"
      ]
     },
     "execution_count": 33,
     "metadata": {},
     "output_type": "execute_result"
    }
   ],
   "source": [
    "scaler = MinMaxScaler()\n",
    "df1['Usage'].head(10)"
   ]
  },
  {
   "cell_type": "code",
   "execution_count": 35,
   "metadata": {},
   "outputs": [
    {
     "data": {
      "text/plain": [
       "array([[0.22920659],\n",
       "       [0.2491376 ],\n",
       "       [0.44806439],\n",
       "       ...,\n",
       "       [0.00249138],\n",
       "       [0.0034496 ],\n",
       "       [0.00574933]])"
      ]
     },
     "execution_count": 35,
     "metadata": {},
     "output_type": "execute_result"
    }
   ],
   "source": [
    "scaler.fit_transform(df1[['Usage']])"
   ]
  },
  {
   "cell_type": "markdown",
   "metadata": {},
   "source": [
    "## Standard Scaler"
   ]
  },
  {
   "cell_type": "code",
   "execution_count": 36,
   "metadata": {},
   "outputs": [
    {
     "data": {
      "text/plain": [
       "array([[ 0.14437394],\n",
       "       [ 0.23397933],\n",
       "       [ 1.12831002],\n",
       "       ...,\n",
       "       [-0.87488734],\n",
       "       [-0.87057939],\n",
       "       [-0.86024031]])"
      ]
     },
     "execution_count": 36,
     "metadata": {},
     "output_type": "execute_result"
    }
   ],
   "source": [
    "scaler = StandardScaler()\n",
    "scaler.fit_transform(df1[['Usage']])"
   ]
  },
  {
   "cell_type": "markdown",
   "metadata": {},
   "source": [
    "# Corelation Matrix"
   ]
  },
  {
   "cell_type": "markdown",
   "metadata": {},
   "source": [
    "## Heatmap\n"
   ]
  },
  {
   "cell_type": "code",
   "execution_count": 39,
   "metadata": {},
   "outputs": [
    {
     "data": {
      "image/png": "[encoded data removed]",
      "text/plain": [
       "<Figure size 360x360 with 2 Axes>"
      ]
     },
     "metadata": {
      "needs_background": "light"
     },
     "output_type": "display_data"
    }
   ],
   "source": [
    "#using sns library\n",
    "correlation_matrix = df1.corr()\n",
    "plt.figure(figsize=(5,5))\n",
    "sns.heatmap(correlation_matrix, vmax = 1, annot=True)\n",
    "plt.show()"
   ]
  },
  {
   "cell_type": "markdown",
   "metadata": {},
   "source": [
    "## Histogram"
   ]
  },
  {
   "cell_type": "code",
   "execution_count": 41,
   "metadata": {},
   "outputs": [
    {
     "data": {
      "text/html": [
       "<div>\n",
       "<style scoped>\n",
       "    .dataframe tbody tr th:only-of-type {\n",
       "        vertical-align: middle;\n",
       "    }\n",
       "\n",
       "    .dataframe tbody tr th {\n",
       "        vertical-align: top;\n",
       "    }\n",
       "\n",
       "    .dataframe thead th {\n",
       "        text-align: right;\n",
       "    }\n",
       "</style>\n",
       "<table border=\"1\" class=\"dataframe\">\n",
       "  <thead>\n",
       "    <tr style=\"text-align: right;\">\n",
       "      <th></th>\n",
       "      <th>States</th>\n",
       "      <th>Regions</th>\n",
       "      <th>latitude</th>\n",
       "      <th>longitude</th>\n",
       "      <th>Dates</th>\n",
       "      <th>Usage</th>\n",
       "      <th>Encoded_Regions</th>\n",
       "    </tr>\n",
       "  </thead>\n",
       "  <tbody>\n",
       "    <tr>\n",
       "      <th>0</th>\n",
       "      <td>Punjab</td>\n",
       "      <td>NR</td>\n",
       "      <td>31.519974</td>\n",
       "      <td>75.980003</td>\n",
       "      <td>02/01/2019 00:00:00</td>\n",
       "      <td>119.9</td>\n",
       "      <td>2</td>\n",
       "    </tr>\n",
       "    <tr>\n",
       "      <th>1</th>\n",
       "      <td>Haryana</td>\n",
       "      <td>NR</td>\n",
       "      <td>28.450006</td>\n",
       "      <td>77.019991</td>\n",
       "      <td>02/01/2019 00:00:00</td>\n",
       "      <td>130.3</td>\n",
       "      <td>2</td>\n",
       "    </tr>\n",
       "    <tr>\n",
       "      <th>2</th>\n",
       "      <td>Rajasthan</td>\n",
       "      <td>NR</td>\n",
       "      <td>26.449999</td>\n",
       "      <td>74.639981</td>\n",
       "      <td>02/01/2019 00:00:00</td>\n",
       "      <td>234.1</td>\n",
       "      <td>2</td>\n",
       "    </tr>\n",
       "    <tr>\n",
       "      <th>3</th>\n",
       "      <td>Delhi</td>\n",
       "      <td>NR</td>\n",
       "      <td>28.669993</td>\n",
       "      <td>77.230004</td>\n",
       "      <td>02/01/2019 00:00:00</td>\n",
       "      <td>85.8</td>\n",
       "      <td>2</td>\n",
       "    </tr>\n",
       "    <tr>\n",
       "      <th>4</th>\n",
       "      <td>UP</td>\n",
       "      <td>NR</td>\n",
       "      <td>27.599981</td>\n",
       "      <td>78.050006</td>\n",
       "      <td>02/01/2019 00:00:00</td>\n",
       "      <td>313.9</td>\n",
       "      <td>2</td>\n",
       "    </tr>\n",
       "  </tbody>\n",
       "</table>\n",
       "</div>"
      ],
      "text/plain": [
       "      States Regions   latitude  longitude                Dates  Usage  \\\n",
       "0     Punjab      NR  31.519974  75.980003  02/01/2019 00:00:00  119.9   \n",
       "1    Haryana      NR  28.450006  77.019991  02/01/2019 00:00:00  130.3   \n",
       "2  Rajasthan      NR  26.449999  74.639981  02/01/2019 00:00:00  234.1   \n",
       "3      Delhi      NR  28.669993  77.230004  02/01/2019 00:00:00   85.8   \n",
       "4         UP      NR  27.599981  78.050006  02/01/2019 00:00:00  313.9   \n",
       "\n",
       "   Encoded_Regions  \n",
       "0                2  \n",
       "1                2  \n",
       "2                2  \n",
       "3                2  \n",
       "4                2  "
      ]
     },
     "execution_count": 41,
     "metadata": {},
     "output_type": "execute_result"
    }
   ],
   "source": [
    "df1.head(5)"
   ]
  },
  {
   "cell_type": "code",
   "execution_count": 44,
   "metadata": {},
   "outputs": [
    {
     "data": {
      "image/png": "[encoded data removed]",
      "text/plain": [
       "<Figure size 432x288 with 1 Axes>"
      ]
     },
     "metadata": {
      "needs_background": "light"
     },
     "output_type": "display_data"
    }
   ],
   "source": [
    "# plotting usage in histogram\n",
    "fig, hist = plt.subplots()\n",
    "hist.hist(df1['Usage'], bins = 4, label = 'Usage')\n",
    "hist.set_xlabel('Usage')\n",
    "hist.set_ylabel('Freq')\n",
    "hist.set_title('Usage in')\n",
    "plt.show()"
   ]
  }
 ],
 "metadata": {
  "interpreter": {
   "hash": "63fd5069d213b44bf678585dea6b12cceca9941eaf7f819626cde1f2670de90d"
  },
  "kernelspec": {
   "display_name": "Python 3.9.6 64-bit",
   "language": "python",
   "name": "python3"
  },
  "language_info": {
   "codemirror_mode": {
    "name": "ipython",
    "version": 3
   },
   "file_extension": ".py",
   "mimetype": "text/x-python",
   "name": "python",
   "nbconvert_exporter": "python",
   "pygments_lexer": "ipython3",
   "version": "3.9.6"
  },
  "orig_nbformat": 4
 },
 "nbformat": 4,
 "nbformat_minor": 2
}
